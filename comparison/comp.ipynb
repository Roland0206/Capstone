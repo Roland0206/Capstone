{
 "cells": [
  {
   "cell_type": "code",
   "execution_count": 27,
   "metadata": {},
   "outputs": [
    {
     "name": "stdout",
     "output_type": "stream",
     "text": [
      "For AngleMap:\n",
      "Mean absolute difference: 0.1534090909090909\n",
      "Max value: 180.0\n",
      "\n",
      "For xi_yi_values:\n",
      "Mean absolute difference: 11.49074733836404\n",
      "Max value: 869.77638454924\n",
      "\n",
      "For Res:\n",
      "Mean absolute difference: 2.4894704949224484e-07\n",
      "Max value: 114.559493091515\n",
      "\n",
      "For Raw_ROIsMask:\n",
      "Mean absolute difference: 0.000946969696969697\n",
      "Max value: 1.0\n",
      "\n",
      "For Raw_Tophat:\n",
      "Mean absolute difference: 11.681450500965163\n",
      "Max value: 3445\n",
      "\n",
      "For Raw_Mask:\n",
      "Mean absolute difference: 0.0017250360020835249\n",
      "Max value: 1.0\n",
      "\n",
      "For Raw_BGSub:\n",
      "Mean absolute difference: 4.1303520544167664\n",
      "Max value: 3981\n",
      "\n"
     ]
    }
   ],
   "source": [
    "import pandas as pd\n",
    "import numpy as np\n",
    "\n",
    "# FILEPATH: /home/roland/Schreibtisch/Capstone/comparison/comp.ipynb\n",
    "files = ['AngleMap', 'xi_yi_values','Res', 'Raw_ROIsMask', 'Raw_Tophat', 'Raw_Mask', 'Raw_BGSub']\n",
    "python_files = []\n",
    "matlab_files = []\n",
    "\n",
    "for filename in files:\n",
    "    filepath = f\"{filename}.csv\"\n",
    "    filepath_mat = f\"{filename}_mat.csv\"\n",
    "    tmp = pd.read_csv(filepath)\n",
    "    tmp_mat = pd.read_csv(filepath_mat)\n",
    "    python_files.append(tmp)\n",
    "    matlab_files.append(tmp_mat)\n",
    "\n",
    "# quantify differences between python and matlab files\n",
    "differences = []\n",
    "max_values = []\n",
    "for python_df, matlab_df in zip(python_files, matlab_files):\n",
    "    # Flatten the DataFrames into 1D arrays\n",
    "    python_array = python_df.values.flatten()\n",
    "    matlab_array = matlab_df.values.flatten()\n",
    "\n",
    "    # Calculate the mean absolute difference\n",
    "    mean_abs_diff = np.mean(np.abs(python_array - matlab_array))\n",
    "    differences.append(mean_abs_diff)\n",
    "\n",
    "    # Calculate the max value\n",
    "    max_value = max(python_df.values.max(), matlab_df.values.max())\n",
    "    max_values.append(max_value)\n",
    "\n",
    "# Print the differences and max values\n",
    "for filename, mean_abs_diff, max_value in zip(files, differences, max_values):\n",
    "    print(f\"For {filename}:\")\n",
    "    print(f\"Mean absolute difference: {mean_abs_diff}\")\n",
    "    print(f\"Max value: {max_value}\\n\")"
   ]
  },
  {
   "cell_type": "code",
   "execution_count": 28,
   "metadata": {},
   "outputs": [
    {
     "name": "stdout",
     "output_type": "stream",
     "text": [
      "False\n",
      "False\n",
      "False\n",
      "True\n"
     ]
    },
    {
     "data": {
      "text/plain": [
       "(32, 33)"
      ]
     },
     "execution_count": 28,
     "metadata": {},
     "output_type": "execute_result"
    }
   ],
   "source": [
    "difference = matlab_files[0] - python_files[0]\n",
    "difference\n",
    "print(matlab_files[0].isna().any().any())\n",
    "print(python_files[0].isna().any().any())\n",
    "print(matlab_files[0].columns.equals(python_files[0].columns))\n",
    "print(matlab_files[0].index.equals(python_files[0].index))\n",
    "python_files[0].shape\n"
   ]
  },
  {
   "cell_type": "code",
   "execution_count": 29,
   "metadata": {},
   "outputs": [
    {
     "name": "stdout",
     "output_type": "stream",
     "text": [
      "Raw_BGSub.csv\n",
      "Raw_ROIsMask_mat.csv\n",
      "AngleMap_mat.csv\n",
      "Res.csv\n",
      "Raw_Mask.csv\n",
      "raw.csv\n",
      "AngleMap.csv\n",
      "subplot.pdf\n",
      "sd_plot.png\n",
      "Raw_Mask_mat.csv\n",
      "rot.csv\n",
      "Raw_Tophat_mat.csv\n",
      "Res_mat.csv\n",
      "xi_yi_values.csv\n",
      "comp.ipynb\n",
      "xi_yi_values_mat.csv\n",
      "subplot_mat.pdf\n",
      "rot_after.csv\n",
      "Raw_ROIsMask.csv\n",
      "res.csv\n",
      "Raw_BGSub_mat.csv\n",
      "Raw_Tophat.csv\n",
      "data.ods\n"
     ]
    }
   ],
   "source": [
    "import os\n",
    "# do ls to get all files in directory\n",
    "# Get the current directory\n",
    "directory = os.getcwd()\n",
    "\n",
    "# List all files in the directory\n",
    "files = os.listdir(directory)\n",
    "\n",
    "# Print the list of files\n",
    "for file in files:\n",
    "    print(file)\n",
    "\n"
   ]
  }
 ],
 "metadata": {
  "kernelspec": {
   "display_name": "Python 3",
   "language": "python",
   "name": "python3"
  },
  "language_info": {
   "codemirror_mode": {
    "name": "ipython",
    "version": 3
   },
   "file_extension": ".py",
   "mimetype": "text/x-python",
   "name": "python",
   "nbconvert_exporter": "python",
   "pygments_lexer": "ipython3",
   "version": "3.11.6"
  }
 },
 "nbformat": 4,
 "nbformat_minor": 2
}
