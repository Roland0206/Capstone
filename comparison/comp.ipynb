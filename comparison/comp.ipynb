{
 "cells": [
  {
   "cell_type": "code",
   "execution_count": 57,
   "metadata": {},
   "outputs": [
    {
     "name": "stdout",
     "output_type": "stream",
     "text": [
      "For AngleMap:\n",
      "Mean absolute difference: 0.1534090909090909\n",
      "Max value: 180.0\n",
      "\n",
      "For xi_yi_values:\n",
      "Mean absolute difference: 11.49074733836404\n",
      "Max value: 869.77638454924\n",
      "\n",
      "For Res:\n",
      "Mean absolute difference: 2.4894704949224484e-07\n",
      "Max value: 114.559493091515\n",
      "\n",
      "For Raw_ROIsMask:\n",
      "Mean absolute difference: 0.000946969696969697\n",
      "Max value: 1.0\n",
      "\n",
      "For Raw_Tophat:\n",
      "Mean absolute difference: 11.681450500965163\n",
      "Max value: 3445\n",
      "\n",
      "For Raw_Mask:\n",
      "Mean absolute difference: 0.0017250360020835249\n",
      "Max value: 1.0\n",
      "\n",
      "For Raw_BGSub:\n",
      "Mean absolute difference: 4.1303520544167664\n",
      "Max value: 3981\n",
      "\n"
     ]
    }
   ],
   "source": [
    "import pandas as pd\n",
    "import numpy as np\n",
    "\n",
    "# FILEPATH: /home/roland/Schreibtisch/Capstone/comparison/comp.ipynb\n",
    "files = ['AngleMap', 'xi_yi_values','Res', 'Raw_ROIsMask', 'Raw_Tophat', 'Raw_Mask', 'Raw_BGSub']\n",
    "python_files = []\n",
    "matlab_files = []\n",
    "\n",
    "for filename in files:\n",
    "    filepath = f\"{filename}.csv\"\n",
    "    filepath_mat = f\"{filename}_mat.csv\"\n",
    "    tmp = pd.read_csv(filepath)\n",
    "    tmp_mat = pd.read_csv(filepath_mat)\n",
    "    python_files.append(tmp)\n",
    "    matlab_files.append(tmp_mat)\n",
    "\n",
    "# quantify differences between python and matlab files\n",
    "differences = []\n",
    "max_values = []\n",
    "for python_df, matlab_df in zip(python_files, matlab_files):\n",
    "    # Flatten the DataFrames into 1D arrays\n",
    "    python_array = python_df.values.flatten()\n",
    "    matlab_array = matlab_df.values.flatten()\n",
    "\n",
    "    # Calculate the mean absolute difference\n",
    "    mean_abs_diff = np.mean(np.abs(python_array - matlab_array))\n",
    "    differences.append(mean_abs_diff)\n",
    "\n",
    "    # Calculate the max value\n",
    "    max_value = max(python_df.values.max(), matlab_df.values.max())\n",
    "    max_values.append(max_value)\n",
    "\n",
    "# Print the differences and max values\n",
    "for filename, mean_abs_diff, max_value in zip(files, differences, max_values):\n",
    "    print(f\"For {filename}:\")\n",
    "    print(f\"Mean absolute difference: {mean_abs_diff}\")\n",
    "    print(f\"Max value: {max_value}\\n\")"
   ]
  },
  {
   "cell_type": "code",
   "execution_count": 58,
   "metadata": {},
   "outputs": [
    {
     "name": "stdout",
     "output_type": "stream",
     "text": [
      "False\n",
      "False\n",
      "False\n",
      "True\n"
     ]
    },
    {
     "data": {
      "text/plain": [
       "(32, 33)"
      ]
     },
     "execution_count": 58,
     "metadata": {},
     "output_type": "execute_result"
    }
   ],
   "source": [
    "difference = matlab_files[0] - python_files[0]\n",
    "difference\n",
    "print(matlab_files[0].isna().any().any())\n",
    "print(python_files[0].isna().any().any())\n",
    "print(matlab_files[0].columns.equals(python_files[0].columns))\n",
    "print(matlab_files[0].index.equals(python_files[0].index))\n",
    "python_files[0].shape\n"
   ]
  },
  {
   "cell_type": "code",
   "execution_count": 69,
   "metadata": {},
   "outputs": [
    {
     "name": "stdout",
     "output_type": "stream",
     "text": [
      "Raw_BGSub.csv\n",
      "Raw_ROIsMask_mat.csv\n",
      "RawRSize.png\n",
      "res_py.csv\n",
      "anglemap_global.csv\n",
      "AngleMap_mat.csv\n",
      "anglemap.csv\n",
      "res_mat.csv\n",
      "RawRSize.csv\n",
      "xy_xcorr_mat.csv\n",
      "MaskRSize.png\n",
      "Res.csv\n",
      "Raw_Mask.csv\n",
      "raw.csv\n",
      "AngleMap.csv\n",
      "subplot.pdf\n",
      "sd_plot.png\n",
      "Raw_Mask_mat.csv\n",
      "rot.csv\n",
      "rot_1.csv\n",
      "Raw_Tophat_mat.csv\n",
      "Res_mat.csv\n",
      "xi_yi_values.csv\n",
      "angle_roi_0.csv\n",
      "MaskRSize_mat.csv\n",
      "AngleMap_1.csv\n",
      "res_1.csv\n",
      "comp.ipynb\n",
      "xi_yi_values_mat.csv\n",
      "subplot_mat.pdf\n",
      "angle_roi_1.csv\n",
      "clean_border.png\n",
      "anglemap_accum.csv\n",
      "rot_after.csv\n",
      "hope.csv\n",
      "Raw_ROIsMask.csv\n",
      "res.csv\n",
      "Res_1.csv\n",
      "xy.csv\n",
      "xi_yi_values_1.csv\n",
      "Raw_BGSub_mat.csv\n",
      "MaskRSize.csv\n",
      "RawRSize_mat.csv\n",
      "Raw_Tophat.csv\n"
     ]
    }
   ],
   "source": [
    "import os\n",
    "# do ls to get all files in directory\n",
    "# Get the current directory\n",
    "directory = os.getcwd()\n",
    "\n",
    "# List all files in the directory\n",
    "files = os.listdir(directory)\n",
    "\n",
    "# Print the list of files\n",
    "for file in files:\n",
    "    print(file)\n",
    "\n"
   ]
  },
  {
   "cell_type": "code",
   "execution_count": 60,
   "metadata": {},
   "outputs": [
    {
     "data": {
      "text/plain": [
       "2.560096188643175e-12"
      ]
     },
     "execution_count": 60,
     "metadata": {},
     "output_type": "execute_result"
    }
   ],
   "source": [
    "from spectrum.correlation import xcorr\n",
    "xy = pd.read_csv('xy.csv', header=None)\n",
    "mat_corr = pd.read_csv('xy_xcorr_mat.csv', header=None)\n",
    "py_corr,_ = xcorr(xy[0], xy[1],  norm='unbiased')\n",
    "py_corr = pd.DataFrame(py_corr)\n",
    "mean_abs_diff = np.mean(np.abs(py_corr-mat_corr))\n",
    "mean_abs_diff"
   ]
  },
  {
   "cell_type": "code",
   "execution_count": 70,
   "metadata": {},
   "outputs": [
    {
     "data": {
      "text/plain": [
       "array([ 29.,  30.,  30.,  30.,  30.,  46.,  30.,  30.,  30.,  30., 103.,\n",
       "        25.,  26.,  28.,  30., 117., 148.,   4.,  17.,  24.,  33., 121.,\n",
       "       140., 160., 175.,   9.,  27., 123., 140., 153., 161., 167.,  51.,\n",
       "       123., 139., 150., 155., 158., 157., 131., 125., 138., 148., 153.,\n",
       "       154., 150., 134., 106., 125., 137., 146., 150., 151., 147., 133.,\n",
       "       113., 126., 137., 145., 149., 149., 144., 133., 117., 128., 138.,\n",
       "       146., 149., 149., 145., 136., 123., 112., 132., 141., 148., 152.,\n",
       "       151., 148., 141., 131., 120., 137., 145., 151., 154., 154., 151.,\n",
       "       147., 139., 130., 121., 142., 148., 153., 155., 155., 153., 150.,\n",
       "       144., 136., 125., 145., 151., 155., 156., 156., 155., 152., 148.,\n",
       "       140., 127., 116., 148., 153., 157., 157., 157., 156., 154., 151.,\n",
       "       145., 128., 112., 151., 156., 159., 159., 158., 157., 156., 155.,\n",
       "       154., 137., 105., 155., 159., 161., 161., 159., 158., 159., 159.,\n",
       "       160., 156., 113.,  99., 163., 164., 163., 161., 160., 161., 161.,\n",
       "       163., 162., 130., 100., 168., 168., 166., 164., 162., 163., 164.,\n",
       "       165., 164., 148., 106., 170., 167., 165., 164., 164., 165., 166.,\n",
       "       164.])"
      ]
     },
     "execution_count": 70,
     "metadata": {},
     "output_type": "execute_result"
    }
   ],
   "source": [
    "anglemap0 = pd.read_csv('angle_roi_1.csv', header=None).to_numpy()\n",
    "anglemap = anglemap0[anglemap0 != 0]\n",
    "anglemap_1d = anglemap.flatten()\n",
    "anglemap_1d = anglemap_1d[anglemap_1d != 0]\n",
    "anglemap_1d\n"
   ]
  },
  {
   "cell_type": "code",
   "execution_count": 73,
   "metadata": {},
   "outputs": [
    {
     "name": "stdout",
     "output_type": "stream",
     "text": [
      "Optimal number of clusters: 2\n"
     ]
    }
   ],
   "source": [
    "import numpy as np\n",
    "from sklearn.cluster import KMeans\n",
    "\n",
    "# Your data\n",
    "data = anglemap.flatten().reshape(-1, 1)  # Flatten the 2D array\n",
    "\n",
    "# Calculate WCSS for different numbers of clusters\n",
    "wcss = []\n",
    "for i in range(1, 11):  # start range from 2\n",
    "    kmeans = KMeans(n_clusters=i, init='k-means++', max_iter=300, n_init=10, random_state=0)\n",
    "    kmeans.fit(data)\n",
    "    wcss.append(kmeans.inertia_)\n",
    "\n",
    "# Calculate the coordinates of the line connecting the first and last points\n",
    "x1, y1 = 2, wcss[0]  # start from 2\n",
    "x2, y2 = 10, wcss[-1]\n",
    "distances = []\n",
    "for i in range(len(wcss)):\n",
    "    x0 = i+1  # start from 2\n",
    "    y0 = wcss[i]\n",
    "    numerator = abs((y2-y1)*x0 - (x2-x1)*y0 + x2*y1 - y2*x1)\n",
    "    denominator = np.sqrt((y2 - y1)**2 + (x2 - x1)**2)\n",
    "    distances.append(numerator/denominator)\n",
    "\n",
    "# The optimal number of clusters is the one that corresponds to the maximum distance\n",
    "optimal_clusters = distances.index(max(distances)) + 1  # +2 because range starts at 2\n",
    "print('Optimal number of clusters:', optimal_clusters)"
   ]
  },
  {
   "cell_type": "code",
   "execution_count": null,
   "metadata": {},
   "outputs": [],
   "source": []
  },
  {
   "cell_type": "code",
   "execution_count": 90,
   "metadata": {},
   "outputs": [
    {
     "name": "stdout",
     "output_type": "stream",
     "text": [
      "Cluster: 1\n",
      "Mean: 28.047619047619047\n",
      "Min: 4.0\n",
      "Max: 51.0\n",
      "Difference between max and min: 47.0\n",
      "Percentage: 11.864406779661017 %\n",
      "\n",
      "Cluster: 0\n",
      "Mean: 146.32692307692307\n",
      "Min: 99.0\n",
      "Max: 175.0\n",
      "Difference between max and min: 76.0\n",
      "Percentage: 88.13559322033898 %\n",
      "\n"
     ]
    }
   ],
   "source": [
    "from collections import Counter\n",
    "\n",
    "# Run KMeans with the optimal number of clusters\n",
    "optimal_clusters = 2  # replace this with your estimated number of clusters\n",
    "# Fit the KMeans algorithm to the data\n",
    "kmeans = KMeans(n_clusters=optimal_clusters, init='k-means++', max_iter=300, n_init=10, random_state=0)\n",
    "kmeans.fit(data)\n",
    "\n",
    "# Count the number of elements in each cluster\n",
    "cluster_counts = Counter(kmeans.labels_)\n",
    "\n",
    "# Calculate the total number of data points\n",
    "total_data_points = len(data)\n",
    "\n",
    "# Iterate over the clusters\n",
    "for cluster in cluster_counts:\n",
    "    # Get the data points in the cluster\n",
    "    cluster_data = data[kmeans.labels_ == cluster]\n",
    "    \n",
    "    # Calculate the mean of the data points in the cluster\n",
    "    cluster_mean = np.mean(cluster_data)\n",
    "    \n",
    "    # Calculate the minimum and maximum of the data points in the cluster\n",
    "    cluster_min = np.min(cluster_data)\n",
    "    cluster_max = np.max(cluster_data)\n",
    "    \n",
    "    # Calculate the difference between the maximum and minimum\n",
    "    cluster_diff = cluster_max - cluster_min\n",
    "    \n",
    "    # Calculate the percentage of data points in the cluster\n",
    "    cluster_percentage = (cluster_counts[cluster] / total_data_points) * 100\n",
    "    \n",
    "    print('Cluster:', cluster)\n",
    "    print('Mean:', cluster_mean)\n",
    "    print('Min:', cluster_min)\n",
    "    print('Max:', cluster_max)\n",
    "    print('Difference between max and min:', cluster_diff)\n",
    "    print('Percentage:', cluster_percentage, '%\\n')"
   ]
  },
  {
   "cell_type": "code",
   "execution_count": 91,
   "metadata": {},
   "outputs": [
    {
     "data": {
      "text/plain": [
       "<matplotlib.image.AxesImage at 0x7fae3cbdb210>"
      ]
     },
     "execution_count": 91,
     "metadata": {},
     "output_type": "execute_result"
    },
    {
     "data": {
      "image/png": "[encoded data removed]",
      "text/plain": [
       "<Figure size 640x480 with 1 Axes>"
      ]
     },
     "metadata": {},
     "output_type": "display_data"
    }
   ],
   "source": [
    "from matplotlib import pyplot as plt\n",
    "# Create an empty array for the mean values\n",
    "mean_values = np.zeros_like(anglemap_1d)\n",
    "\n",
    "# For each cluster, calculate the mean value and assign it to the corresponding elements in the mean_values array\n",
    "for i in range(optimal_clusters):\n",
    "    mean_values[kmeans.labels_ == i] = np.mean(data[kmeans.labels_ == i])\n",
    "\n",
    "# Reshape the mean_values array to the original shape of the data\n",
    "mean_values = mean_values.reshape(anglemap.shape)\n",
    "anglemap_global = anglemap0.copy()\n",
    "anglemap_global[anglemap_global != 0] = mean_values\n",
    "anglemap_global\n",
    "np.savetxt('anglemap_global.csv', anglemap_global, delimiter=',', fmt='%d')\n",
    "plt.imshow(anglemap_global)"
   ]
  },
  {
   "cell_type": "code",
   "execution_count": 66,
   "metadata": {},
   "outputs": [],
   "source": [
    "import re\n"
   ]
  },
  {
   "cell_type": "code",
   "execution_count": null,
   "metadata": {},
   "outputs": [],
   "source": []
  }
 ],
 "metadata": {
  "kernelspec": {
   "display_name": "Python 3",
   "language": "python",
   "name": "python3"
  },
  "language_info": {
   "codemirror_mode": {
    "name": "ipython",
    "version": 3
   },
   "file_extension": ".py",
   "mimetype": "text/x-python",
   "name": "python",
   "nbconvert_exporter": "python",
   "pygments_lexer": "ipython3",
   "version": "3.11.6"
  }
 },
 "nbformat": 4,
 "nbformat_minor": 2
}
