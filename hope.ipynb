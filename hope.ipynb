{
 "cells": [
  {
   "cell_type": "code",
   "execution_count": 1,
   "metadata": {},
   "outputs": [],
   "source": [
    "import steerable\n",
    "import numpy as np\n",
    "import pandas as pd"
   ]
  },
  {
   "cell_type": "code",
   "execution_count": 3,
   "metadata": {},
   "outputs": [
    {
     "data": {
      "text/plain": [
       "array([[-0.11775191, -0.20850019, -0.06833516, ..., -0.06888751,\n",
       "         0.29355058,  0.45784339],\n",
       "       [-0.15756022, -0.2320105 , -0.10186798, ...,  0.20894623,\n",
       "         0.46232042,  0.60875842],\n",
       "       [-0.27005502, -0.29778314, -0.23868459, ...,  0.51135731,\n",
       "         0.67753544,  0.78310445],\n",
       "       ...,\n",
       "       [ 0.69579594,  0.66169398,  0.61371924, ...,  0.04873037,\n",
       "        -0.16987767, -0.37487556],\n",
       "       [ 0.64184966,  0.68375267,  0.7975508 , ..., -0.06003999,\n",
       "        -0.34964917, -0.53814174],\n",
       "       [ 0.59539369,  0.65859603,  0.85316541, ..., -0.09435746,\n",
       "        -0.31633512, -0.3456357 ]])"
      ]
     },
     "execution_count": 3,
     "metadata": {},
     "output_type": "execute_result"
    }
   ],
   "source": [
    "test = pd.read_csv('comparison/RawRSize.csv', header=None).to_numpy()\n",
    "test = test[:,:70]\n",
    "test = np.ascontiguousarray(test.astype(np.float64))\n",
    "sd = steerable.Detector2D(test, 2, 2)\n",
    "res, _ = sd.filter()\n",
    "rot = sd.get_angle_response(180)\n",
    "first_column = res[:, 0]\n",
    "res"
   ]
  },
  {
   "cell_type": "code",
   "execution_count": null,
   "metadata": {},
   "outputs": [],
   "source": []
  }
 ],
 "metadata": {
  "kernelspec": {
   "display_name": "Python 3",
   "language": "python",
   "name": "python3"
  },
  "language_info": {
   "codemirror_mode": {
    "name": "ipython",
    "version": 3
   },
   "file_extension": ".py",
   "mimetype": "text/x-python",
   "name": "python",
   "nbconvert_exporter": "python",
   "pygments_lexer": "ipython3",
   "version": "3.11.6"
  }
 },
 "nbformat": 4,
 "nbformat_minor": 2
}
